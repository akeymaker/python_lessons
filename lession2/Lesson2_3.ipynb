{
 "cells": [
  {
   "cell_type": "code",
   "execution_count": 6,
   "id": "7966264b",
   "metadata": {},
   "outputs": [
    {
     "name": "stdout",
     "output_type": "stream",
     "text": [
      "有一個矩形\n",
      "寬:45.78\n",
      "高:92.57\n",
      "面積:4237.8546\n"
     ]
    }
   ],
   "source": [
    "width = 45.78\n",
    "hight = 92.57\n",
    "area = width * hight\n",
    "print(f\"有一個矩形\\n寬:{width}\\n高:{hight}\\n面積:{area}\")"
   ]
  }
 ],
 "metadata": {
  "kernelspec": {
   "display_name": "base",
   "language": "python",
   "name": "python3"
  },
  "language_info": {
   "codemirror_mode": {
    "name": "ipython",
    "version": 3
   },
   "file_extension": ".py",
   "mimetype": "text/x-python",
   "name": "python",
   "nbconvert_exporter": "python",
   "pygments_lexer": "ipython3",
   "version": "3.12.7"
  }
 },
 "nbformat": 4,
 "nbformat_minor": 5
}
